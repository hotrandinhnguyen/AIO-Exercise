{
  "nbformat": 4,
  "nbformat_minor": 0,
  "metadata": {
    "colab": {
      "provenance": []
    },
    "kernelspec": {
      "name": "python3",
      "display_name": "Python 3"
    },
    "language_info": {
      "name": "python"
    }
  },
  "cells": [
    {
      "cell_type": "code",
      "source": [
        "import pandas as pd\n",
        "import numpy as np\n",
        "from sklearn.model_selection import train_test_split\n",
        "from sklearn.preprocessing import StandardScaler, PolynomialFeatures\n",
        "from sklearn.linear_model import LinearRegression\n",
        "from sklearn.metrics import r2_score\n",
        "\n",
        "def load_data(file_path):\n",
        "    df = pd.read_csv(file_path)\n",
        "    return df\n",
        "\n",
        "def preprocess_data(df):\n",
        "    # One-hot encoding for Influencer column\n",
        "    df = pd.get_dummies(df)\n",
        "    df = df.fillna(df.mean())\n",
        "\n",
        "    # Get features and target\n",
        "    X = df[['TV', 'Radio', 'Social Media', 'Influencer_Macro',\n",
        "            'Influencer_Mega', 'Influencer_Micro', 'Influencer_Nano']]\n",
        "    y = df[['Sales']]\n",
        "\n",
        "    return X, y\n",
        "\n",
        "def scale_features(X_train, X_test):\n",
        "    scaler = StandardScaler()\n",
        "    X_train_scaled = scaler.fit_transform(X_train)\n",
        "    X_test_scaled = scaler.transform(X_test)\n",
        "    return X_train_scaled, X_test_scaled\n",
        "\n",
        "def create_polynomial_features(X_train_scaled, X_test_scaled, degree=2):\n",
        "    poly_features = PolynomialFeatures(degree=degree)\n",
        "    X_train_poly = poly_features.fit_transform(X_train_scaled)\n",
        "    X_test_poly = poly_features.transform(X_test_scaled)\n",
        "    return X_train_poly, X_test_poly\n",
        "\n",
        "def train_and_evaluate(X_train_poly, X_test_poly, y_train, y_test):\n",
        "    # Initialize and train the model\n",
        "    poly_model = LinearRegression()\n",
        "    poly_model.fit(X_train_poly, y_train)\n",
        "\n",
        "    # Make predictions\n",
        "    predictions = poly_model.predict(X_test_poly)\n",
        "\n",
        "    # Calculate R2 score\n",
        "    r2 = r2_score(y_test, predictions)\n",
        "\n",
        "    return poly_model, predictions, r2\n",
        "\n",
        "def main():\n",
        "    df = load_data('SalesPrediction.csv')\n",
        "\n",
        "    X, y = preprocess_data(df)\n",
        "\n",
        "    X_train, X_test, y_train, y_test = train_test_split(\n",
        "        X, y, test_size=0.33, random_state=0\n",
        "    )\n",
        "\n",
        "    X_train_scaled, X_test_scaled = scale_features(X_train, X_test)\n",
        "\n",
        "    X_train_poly, X_test_poly = create_polynomial_features(X_train_scaled, X_test_scaled)\n",
        "\n",
        "    print(\"Training and evaluating model\")\n",
        "    model, predictions, r2_score_val = train_and_evaluate(\n",
        "        X_train_poly, X_test_poly, y_train, y_test\n",
        "    )\n",
        "\n",
        "    print(f\"\\nModel Performance:\")\n",
        "    print(f\"R² Score: {r2_score_val:.4f}\")\n",
        "\n",
        "if __name__ == \"__main__\":\n",
        "    main()"
      ],
      "metadata": {
        "colab": {
          "base_uri": "https://localhost:8080/"
        },
        "id": "MjRlYFZystbX",
        "outputId": "398d660a-96ff-4ab1-a9f7-a116a62348e9"
      },
      "execution_count": 3,
      "outputs": [
        {
          "output_type": "stream",
          "name": "stdout",
          "text": [
            "Training and evaluating model\n",
            "\n",
            "Model Performance:\n",
            "R² Score: 0.9952\n"
          ]
        }
      ]
    },
    {
      "cell_type": "code",
      "execution_count": 1,
      "metadata": {
        "id": "-j4FVnD-i3ye"
      },
      "outputs": [],
      "source": [
        "class CustomLinearRegression:\n",
        "    def __init__(self, X_data, y_target, learning_rate=0.01, num_epochs=10000):\n",
        "        self.num_samples = X_data.shape[0]\n",
        "        self.X_data = np.c_[np.ones((self.num_samples, 1)), X_data]\n",
        "        self.y_target = y_target\n",
        "        self.learning_rate = learning_rate\n",
        "        self.num_epochs = num_epochs\n",
        "        self.theta = np.random.randn(self.X_data.shape[1], 1)\n",
        "        self.losses = []\n",
        "\n",
        "    def compute_loss(self, y_pred, y_target):\n",
        "        loss = (y_pred - y_target) ** 2\n",
        "        loss = np.mean(loss)  # Tính lỗi bình phương trung bình\n",
        "        return loss\n",
        "\n",
        "    def predict(self, X_data):\n",
        "        if X_data.shape[1] == self.num_features:\n",
        "            X_data = np.c_[np.ones((X_data.shape[0], 1)), X_data]  # Thêm bias nếu thiếu\n",
        "        y_pred = X_data.dot(self.theta)  # Tính dự đoán\n",
        "        return y_pred\n",
        "\n",
        "    def fit(self):\n",
        "        for epoch in range(self.num_epochs):\n",
        "            y_pred = self.predict(self.X_data)  # Dự đoán đầu ra\n",
        "            loss = self.compute_loss(y_pred, self.y_target)  # Tính lỗi\n",
        "            self.losses.append(loss)\n",
        "\n",
        "            # Gradient descent\n",
        "            gradients = (1 / self.num_samples) * self.X_data.T.dot(y_pred - self.y_target)\n",
        "            self.theta -= self.learning_rate * gradients  # Cập nhật trọng số\n",
        "\n",
        "            if epoch % 50 == 0:\n",
        "                print(f'Epoch: {epoch} - Loss: {loss}')\n",
        "\n",
        "        return {\n",
        "            'loss': sum(self.losses) / len(self.losses),\n",
        "            'weight': self.theta\n",
        "        }\n"
      ]
    }
  ]
}