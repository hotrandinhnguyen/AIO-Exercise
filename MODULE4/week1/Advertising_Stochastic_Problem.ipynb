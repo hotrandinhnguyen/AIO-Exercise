{
  "nbformat": 4,
  "nbformat_minor": 0,
  "metadata": {
    "colab": {
      "provenance": []
    },
    "kernelspec": {
      "name": "python3",
      "display_name": "Python 3"
    },
    "language_info": {
      "name": "python"
    }
  },
  "cells": [
    {
      "cell_type": "markdown",
      "source": [
        "#Question 1"
      ],
      "metadata": {
        "id": "PGZhoZM6e0Qg"
      }
    },
    {
      "cell_type": "code",
      "execution_count": 1,
      "metadata": {
        "id": "DAV68eVGc42U"
      },
      "outputs": [],
      "source": [
        "# dataset\n",
        "import numpy as np\n",
        "import matplotlib.pyplot as plt\n",
        "import random\n",
        "\n",
        "def get_column(data, index):\n",
        "    result = [row[index] for row in data]\n",
        "    return result\n",
        "\n",
        "def prepare_data(file_name_dataset):\n",
        "  data = np.genfromtxt(file_name_dataset, delimiter=',', skip_header=1).tolist()\n",
        "  N = len(data)\n",
        "\n",
        "  # get tv (index=0)\n",
        "  tv_data = get_column(data, 0)\n",
        "\n",
        "  # get radio (index=1)\n",
        "  radio_data = get_column(data, 1)\n",
        "\n",
        "  # get newspaper (index=2)\n",
        "  newspaper_data = get_column(data, 2)\n",
        "\n",
        "  # get sales (index=3)\n",
        "  sales_data = get_column(data, 3)\n",
        "\n",
        "  # building X input  and y output for training\n",
        "  X = [tv_data, radio_data, newspaper_data]\n",
        "  y = sales_data\n",
        "  return X,y"
      ]
    },
    {
      "cell_type": "code",
      "source": [
        "#Multiple choices:\n",
        "#Question 1:\n",
        "X,y = prepare_data('advertising.csv')\n",
        "list = [sum(X[0][:5]), sum(X[1][:5]), sum(X[2][:5]), sum(y[:5])]\n",
        "print(list)"
      ],
      "metadata": {
        "colab": {
          "base_uri": "https://localhost:8080/"
        },
        "id": "B7v0RAoefAAp",
        "outputId": "c0b42cb0-3a93-4bfa-e74e-d14721f71b93"
      },
      "execution_count": 2,
      "outputs": [
        {
          "output_type": "stream",
          "name": "stdout",
          "text": [
            "[624.1, 175.10000000000002, 300.5, 78.9]\n"
          ]
        }
      ]
    },
    {
      "cell_type": "markdown",
      "source": [
        "#Question 2"
      ],
      "metadata": {
        "id": "cgSEaUdMgJDt"
      }
    },
    {
      "cell_type": "code",
      "source": [
        "# compute output and loss\n",
        "def predict(x1, x2, x3, w1, w2, w3, b):\n",
        "    result = w1*x1 + w2*x2 + w3*x3 + b\n",
        "    return result\n",
        "\n",
        "def compute_loss_mse(y_hat, y):\n",
        "    result = (y_hat - y)**2\n",
        "    return result\n",
        "\n",
        "def compute_loss_mae(y_hat, y):\n",
        "    result = abs(y_hat - y)\n",
        "    return result\n",
        "\n",
        "# compute gradient\n",
        "def compute_gradient_wi(xi, y, y_hat):\n",
        "    dl_dwi = 2*(y_hat - y)*xi\n",
        "    return dl_dwi\n",
        "\n",
        "def compute_gradient_b(y, y_hat):\n",
        "    dl_db = 2*(y_hat - y)\n",
        "    return dl_db\n",
        "\n",
        "# update weights\n",
        "def update_weight_wi(wi, dl_dwi, lr):\n",
        "    wi = wi - lr*dl_dwi\n",
        "    return wi\n",
        "\n",
        "def update_weight_b(b, dl_db, lr):\n",
        "    b = b - lr*dl_db\n",
        "    return b"
      ],
      "metadata": {
        "id": "taVxCRzegOh0"
      },
      "execution_count": 3,
      "outputs": []
    },
    {
      "cell_type": "code",
      "source": [
        "#Multiple choices:\n",
        "#Question 2:\n",
        "y_p = predict(x1 = 1, x2 =1, x3=1, w1=0, w2=0.5, w3=0, b=0.5)\n",
        "print(y_p)"
      ],
      "metadata": {
        "colab": {
          "base_uri": "https://localhost:8080/"
        },
        "id": "-qK44CyUhNKs",
        "outputId": "d9701fcb-33ed-4ebf-8e42-f700450b4b66"
      },
      "execution_count": 4,
      "outputs": [
        {
          "output_type": "stream",
          "name": "stdout",
          "text": [
            "1.0\n"
          ]
        }
      ]
    },
    {
      "cell_type": "code",
      "source": [
        "#Multiple choices:\n",
        "#Question 3:\n",
        "l = compute_loss_mse(y_hat=1, y=0.5)\n",
        "print(l)"
      ],
      "metadata": {
        "colab": {
          "base_uri": "https://localhost:8080/"
        },
        "id": "UC-a7EoVhbHz",
        "outputId": "3c685459-234b-41d1-f900-c63972082313"
      },
      "execution_count": 5,
      "outputs": [
        {
          "output_type": "stream",
          "name": "stdout",
          "text": [
            "0.25\n"
          ]
        }
      ]
    },
    {
      "cell_type": "code",
      "source": [
        "#Multiple choices:\n",
        "#Question 10:\n",
        "l = compute_loss_mae(y_hat=1, y=0.5)\n",
        "print(l)"
      ],
      "metadata": {
        "colab": {
          "base_uri": "https://localhost:8080/"
        },
        "id": "6kAg4rWLiDnM",
        "outputId": "4359d608-c014-491a-e360-726f87fb4854"
      },
      "execution_count": 16,
      "outputs": [
        {
          "output_type": "stream",
          "name": "stdout",
          "text": [
            "0.5\n"
          ]
        }
      ]
    },
    {
      "cell_type": "code",
      "source": [
        "#Multiple choices:\n",
        "#Question 4:\n",
        "g_wi = compute_gradient_wi(xi=1.0, y=1.0, y_hat=0.5)\n",
        "print(g_wi)"
      ],
      "metadata": {
        "colab": {
          "base_uri": "https://localhost:8080/"
        },
        "id": "p9xP-qSahhAw",
        "outputId": "4586fb24-f540-4a85-9312-24ea8cea889b"
      },
      "execution_count": 6,
      "outputs": [
        {
          "output_type": "stream",
          "name": "stdout",
          "text": [
            "-1.0\n"
          ]
        }
      ]
    },
    {
      "cell_type": "code",
      "source": [
        "#Multiple choices:\n",
        "#Question 5:\n",
        "g_b =  compute_gradient_b(y=2.0, y_hat=0.5)\n",
        "print(g_b)"
      ],
      "metadata": {
        "colab": {
          "base_uri": "https://localhost:8080/"
        },
        "id": "K8tzPnmphl8J",
        "outputId": "68ea666d-22c1-497c-a3fc-0690f0d5d99a"
      },
      "execution_count": 7,
      "outputs": [
        {
          "output_type": "stream",
          "name": "stdout",
          "text": [
            "-3.0\n"
          ]
        }
      ]
    },
    {
      "cell_type": "code",
      "source": [
        "#Multiple choices:\n",
        "#Question 6:\n",
        "after_wi = update_weight_wi(wi=1.0, dl_dwi=-0.5, lr = 1e-5)\n",
        "print(after_wi)"
      ],
      "metadata": {
        "colab": {
          "base_uri": "https://localhost:8080/"
        },
        "id": "jduOAtcQhl_G",
        "outputId": "201547fc-25b5-4e50-99d1-77d285748d8a"
      },
      "execution_count": 8,
      "outputs": [
        {
          "output_type": "stream",
          "name": "stdout",
          "text": [
            "1.000005\n"
          ]
        }
      ]
    },
    {
      "cell_type": "code",
      "source": [
        "#Multiple choices:\n",
        "#Question 7:\n",
        "after_b = update_weight_b(b=0.5, dl_db=-1.0, lr = 1e-5)\n",
        "print(after_b)"
      ],
      "metadata": {
        "colab": {
          "base_uri": "https://localhost:8080/"
        },
        "id": "tzFiKQbehmBQ",
        "outputId": "e856f5d0-0365-4a7f-8f96-b1d7d02db3c5"
      },
      "execution_count": 9,
      "outputs": [
        {
          "output_type": "stream",
          "name": "stdout",
          "text": [
            "0.50001\n"
          ]
        }
      ]
    },
    {
      "cell_type": "code",
      "source": [
        "def initialize_params():\n",
        "    # w1 = random.gauss(mu=0.0, sigma=0.01)\n",
        "    # w2 = random.gauss(mu=0.0, sigma=0.01)\n",
        "    # w3 = random.gauss(mu=0.0, sigma=0.01)\n",
        "    # b  = 0\n",
        "\n",
        "    w1, w2, w3, b = (0.016992259082509283, 0.0070783670518262355, -0.002307860847821344, 0)\n",
        "    return w1, w2, w3, b\n",
        "\n",
        "print(initialize_params())"
      ],
      "metadata": {
        "colab": {
          "base_uri": "https://localhost:8080/"
        },
        "id": "5kyO5EKwhx3E",
        "outputId": "40f6118b-ad99-4d78-d0dc-1f53c70e0535"
      },
      "execution_count": 10,
      "outputs": [
        {
          "output_type": "stream",
          "name": "stdout",
          "text": [
            "(0.016992259082509283, 0.0070783670518262355, -0.002307860847821344, 0)\n"
          ]
        }
      ]
    },
    {
      "cell_type": "code",
      "source": [
        "\n",
        "def implement_linear_regression(X_data, y_data, epoch_max = 50,lr = 1e-5):\n",
        "  losses = []\n",
        "\n",
        "  w1, w2, w3, b = initialize_params()\n",
        "\n",
        "  N = len(y_data)\n",
        "  for epoch in range(epoch_max):\n",
        "      for i in range(N):\n",
        "          # get a sample\n",
        "          x1 = X_data[0][i]\n",
        "          x2 = X_data[1][i]\n",
        "          x3 = X_data[2][i]\n",
        "\n",
        "          y  = y_data[i]\n",
        "\n",
        "          # print(y)\n",
        "          # compute output\n",
        "          y_hat = predict(x1, x2, x3, w1, w2, w3, b)\n",
        "\n",
        "          # compute loss\n",
        "          loss = compute_loss_mse(y, y_hat)\n",
        "\n",
        "          # compute gradient w1, w2, w3, b\n",
        "          dl_dw1 = compute_gradient_wi(x1, y, y_hat)\n",
        "          dl_dw2 = compute_gradient_wi(x2, y, y_hat)\n",
        "          dl_dw3 = compute_gradient_wi(x3, y, y_hat)\n",
        "          dl_db  = compute_gradient_b(y, y_hat)\n",
        "\n",
        "          # update parameters\n",
        "          w1 = update_weight_wi(w1, dl_dw1, lr)\n",
        "          w2 = update_weight_wi(w2, dl_dw2, lr)\n",
        "          w3 = update_weight_wi(w3, dl_dw3, lr)\n",
        "          b  = update_weight_b(b, dl_db, lr)\n",
        "\n",
        "          # logging\n",
        "          losses.append(loss)\n",
        "  return (w1,w2,w3,b, losses)"
      ],
      "metadata": {
        "id": "TalQPIMRhy7e"
      },
      "execution_count": 11,
      "outputs": []
    },
    {
      "cell_type": "code",
      "source": [
        "X,y = prepare_data('advertising.csv')\n",
        "(w1,w2,w3,b, losses) = implement_linear_regression(X,y)\n",
        "plt.plot(losses[:100])\n",
        "plt.xlabel(\"#iteration\")\n",
        "plt.ylabel(\"Loss\")\n",
        "plt.show()"
      ],
      "metadata": {
        "colab": {
          "base_uri": "https://localhost:8080/",
          "height": 449
        },
        "id": "-xJyfSA3h1tS",
        "outputId": "09d0f488-f4a7-46b8-9f62-de3f9d074ffc"
      },
      "execution_count": 12,
      "outputs": [
        {
          "output_type": "display_data",
          "data": {
            "text/plain": [
              "<Figure size 640x480 with 1 Axes>"
            ],
            "image/png": "[encoded data removed]"
          },
          "metadata": {}
        }
      ]
    },
    {
      "cell_type": "code",
      "source": [
        "#Multiple choices:\n",
        "#Question 8:\n",
        "X,y = prepare_data('advertising.csv')\n",
        "(w1,w2,w3,b, losses) = implement_linear_regression(X,y)\n",
        "print(w1,w2,w3)"
      ],
      "metadata": {
        "colab": {
          "base_uri": "https://localhost:8080/"
        },
        "id": "a_sSWaK4h31E",
        "outputId": "61fd6cce-ccc1-420c-b691-fa608ea46e1c"
      },
      "execution_count": 13,
      "outputs": [
        {
          "output_type": "stream",
          "name": "stdout",
          "text": [
            "0.07405984066396477 0.15917360263437663 0.017561197559948935\n"
          ]
        }
      ]
    },
    {
      "cell_type": "markdown",
      "source": [
        "#Inference"
      ],
      "metadata": {
        "id": "UFmG9CLAh7lq"
      }
    },
    {
      "cell_type": "code",
      "source": [
        "#Multiple choices:\n",
        "#Question 9:\n",
        "# given new data\n",
        "tv = 19.2\n",
        "radio = 35.9\n",
        "newspaper = 51.3\n",
        "\n",
        "X,y = prepare_data('advertising.csv')\n",
        "(w1,w2,w3,b, losses) = implement_linear_regression(X,y)\n",
        "sales = predict(tv, radio, newspaper, w1, w2, w3, b)\n",
        "print(f'predicted sales is {sales}')"
      ],
      "metadata": {
        "colab": {
          "base_uri": "https://localhost:8080/"
        },
        "id": "1zhlAzjhh8R4",
        "outputId": "819480b1-d6c8-43d4-8895-210002f92d39"
      },
      "execution_count": 14,
      "outputs": [
        {
          "output_type": "stream",
          "name": "stdout",
          "text": [
            "predicted sales is 8.176413319549823\n"
          ]
        }
      ]
    },
    {
      "cell_type": "code",
      "source": [
        "# [230.1, 37.8, 69.2, 22.1]\n",
        "\n",
        "tv = 230.1\n",
        "radio = 37.8\n",
        "newspaper = 69.2\n",
        "\n",
        "sales = predict(tv, radio, newspaper, w1, w2, w3, b)\n",
        "print(f'predicted sales is {sales}')"
      ],
      "metadata": {
        "colab": {
          "base_uri": "https://localhost:8080/"
        },
        "id": "pGfEXapth_B9",
        "outputId": "87d775d6-470b-42a6-c57e-c2c5f51e024e"
      },
      "execution_count": 15,
      "outputs": [
        {
          "output_type": "stream",
          "name": "stdout",
          "text": [
            "predicted sales is 24.412408996908397\n"
          ]
        }
      ]
    },
    {
      "cell_type": "markdown",
      "source": [
        "#Question 3"
      ],
      "metadata": {
        "id": "D3uVKPDIiIMf"
      }
    },
    {
      "cell_type": "code",
      "source": [
        "def implement_linear_regression_nsamples(X_data, y_data, epoch_max = 50,lr = 1e-5):\n",
        "  losses = []\n",
        "\n",
        "  w1, w2, w3, b = initialize_params()\n",
        "  N = len(y_data)\n",
        "\n",
        "  for epoch in range(epoch_max):\n",
        "\n",
        "      loss_total = 0.0\n",
        "      dw1_total = 0.0\n",
        "      dw2_total = 0.0\n",
        "      dw3_total = 0.0\n",
        "      db_total  = 0.0\n",
        "\n",
        "      for i in range(N):\n",
        "          # get a sample\n",
        "          x1 = X_data[0][i]\n",
        "          x2 = X_data[1][i]\n",
        "          x3 = X_data[2][i]\n",
        "\n",
        "          y  = y_data[i]\n",
        "\n",
        "          # print(y)\n",
        "          # compute output\n",
        "          y_hat = predict(x1, x2, x3, w1, w2, w3, b)\n",
        "\n",
        "          # compute loss\n",
        "          loss = compute_loss_mae(y, y_hat)\n",
        "          loss_total = loss_total + loss\n",
        "          # accumulate loss to total loss\n",
        "          # dw1_total = dw1_total + dl_dw1\n",
        "          # dw2_total = dw2_total + dl_dw2\n",
        "          # dw3_total = dw3_total + dl_dw3\n",
        "          # db_total  = db_total  + dl_db\n",
        "\n",
        "          # compute gradient w1, w2, w3, b\n",
        "          dl_dw1 = compute_gradient_wi(x1, y, y_hat)\n",
        "          dl_dw2 = compute_gradient_wi(x2, y, y_hat)\n",
        "          dl_dw3 = compute_gradient_wi(x3, y, y_hat)\n",
        "          dl_db  = compute_gradient_b(y, y_hat)\n",
        "\n",
        "         # accumulate gradient w1, w2, w3, b\n",
        "          dw1_total += dl_dw1\n",
        "          dw2_total += dl_dw2\n",
        "          dw3_total += dl_dw3\n",
        "          db_total  += dl_db\n",
        "\n",
        "      # (after processing N samples) - update parameters\n",
        "      w1 = update_weight_wi(w1, dl_dw1/N, lr)\n",
        "      w2 = update_weight_wi(w2, dl_dw2/N, lr)\n",
        "      w3 = update_weight_wi(w3, dl_dw3/N, lr)\n",
        "      b = update_weight_b(b, dl_db/N, lr)\n",
        "\n",
        "\n",
        "\n",
        "      # logging\n",
        "      losses.append(loss_total/N)\n",
        "  return (w1,w2,w3,b, losses)"
      ],
      "metadata": {
        "id": "68xZz3ahiI_E"
      },
      "execution_count": 22,
      "outputs": []
    },
    {
      "cell_type": "code",
      "source": [
        "X,y = prepare_data('advertising.csv')\n",
        "(w1,w2,w3,b, losses) = implement_linear_regression_nsamples(X,y,1000)\n",
        "plt.plot(losses)\n",
        "plt.xlabel(\"#epoch\")\n",
        "plt.ylabel(\"MAE Loss\")\n",
        "plt.show()"
      ],
      "metadata": {
        "colab": {
          "base_uri": "https://localhost:8080/",
          "height": 449
        },
        "id": "8f-QjK5jl01Q",
        "outputId": "efdd4b14-1b25-4808-c76b-28a536baf982"
      },
      "execution_count": 23,
      "outputs": [
        {
          "output_type": "display_data",
          "data": {
            "text/plain": [
              "<Figure size 640x480 with 1 Axes>"
            ],
            "image/png": "[encoded data removed]"
          },
          "metadata": {}
        }
      ]
    },
    {
      "cell_type": "code",
      "source": [
        "#Multiple choices:\n",
        "#Question 11:\n",
        "X,y = prepare_data('advertising.csv')\n",
        "(w1,w2,w3,b, losses) = implement_linear_regression_nsamples(X,y,1000)\n",
        "print(w1,w2,w3)"
      ],
      "metadata": {
        "colab": {
          "base_uri": "https://localhost:8080/"
        },
        "id": "PChTNFRnnPAc",
        "outputId": "8bdffffc-9c23-4faf-b9a8-798148fb7264"
      },
      "execution_count": 24,
      "outputs": [
        {
          "output_type": "stream",
          "name": "stdout",
          "text": [
            "0.07865211655017688 0.009363049405216773 3.387579445815582e-06\n"
          ]
        }
      ]
    },
    {
      "cell_type": "markdown",
      "source": [
        "#Question 4"
      ],
      "metadata": {
        "id": "tbIGgE3vnoBN"
      }
    },
    {
      "cell_type": "code",
      "source": [
        "# dataset\n",
        "import numpy as np\n",
        "import matplotlib.pyplot as plt\n",
        "import random"
      ],
      "metadata": {
        "id": "uW7vyWLNnowQ"
      },
      "execution_count": 25,
      "outputs": []
    },
    {
      "cell_type": "code",
      "source": [
        "def prepare_data(file_name_dataset):\n",
        "  data = np.genfromtxt(file_name_dataset, delimiter=',', skip_header=1).tolist()\n",
        "\n",
        "  # get tv (index=0)\n",
        "  tv_data = get_column(data, 0)\n",
        "\n",
        "  # get radio (index=1)\n",
        "  radio_data = get_column(data, 1)\n",
        "\n",
        "  # get newspaper (index=2)\n",
        "  newspaper_data = get_column(data, 2)\n",
        "\n",
        "  # get sales (index=3)\n",
        "  sales_data = get_column(data, 3)\n",
        "\n",
        "  # building X input  and y output for training\n",
        "  #Create list of features for input\n",
        "  X = [[1, x1, x2, x3] for x1, x2, x3 in zip(tv_data, radio_data, newspaper_data)]\n",
        "  y = sales_data\n",
        "  return X,y"
      ],
      "metadata": {
        "id": "4xyONMo1n8tc"
      },
      "execution_count": 45,
      "outputs": []
    },
    {
      "cell_type": "code",
      "source": [
        "def initialize_params():\n",
        "    bias = 0\n",
        "    w1 = random.gauss(mu=0.0, sigma=0.01)\n",
        "    w2 = random.gauss(mu=0.0, sigma=0.01)\n",
        "    w3 = random.gauss(mu=0.0, sigma=0.01)\n",
        "\n",
        "    return [0, 0.016992259082509283, 0.0070783670518262355, -0.002307860847821344]\n",
        "    # return [bias, w1, w2, w3]"
      ],
      "metadata": {
        "id": "Fir5deFaqi6B"
      },
      "execution_count": 46,
      "outputs": []
    },
    {
      "cell_type": "code",
      "source": [
        "#Predict ouput by using y = x0*b + x1*w1 + x2*w2 + x3*w3\n",
        "\n",
        "def predict(X_features, weights):\n",
        "    result = np.dot(X_features, weights)\n",
        "    return result\n",
        "\n",
        "def compute_loss(y_hat, y):\n",
        "    return (y_hat - y)**2\n",
        "\n",
        "# compute gradient\n",
        "def compute_gradient_w(X_features, y, y_hat):\n",
        "    X_features = np.array(X_features)\n",
        "    errors = y_hat - y\n",
        "    dl_dweights =  X_features * errors\n",
        "    return dl_dweights\n",
        "\n",
        "# update weights\n",
        "def update_weight(weights, dl_dweights, lr):\n",
        "    weights = weights - lr * dl_dweights\n",
        "    return weights"
      ],
      "metadata": {
        "id": "UMatuZdwoHCm"
      },
      "execution_count": 60,
      "outputs": []
    },
    {
      "cell_type": "code",
      "source": [
        "def implement_linear_regression(X_feature, y_ouput, epoch_max = 50,lr = 1e-5):\n",
        "\n",
        "  losses = []\n",
        "  weights = initialize_params()\n",
        "  N = len(y_ouput)\n",
        "  for epoch in range(epoch_max):\n",
        "      print(\"epoch\", epoch)\n",
        "      for i in range(N):\n",
        "          # get a sample - row i\n",
        "          features_i = X_feature[i]\n",
        "          y = y_ouput[i]\n",
        "\n",
        "          # compute output\n",
        "          y_hat = predict(features_i, weights)\n",
        "\n",
        "          # compute loss\n",
        "          loss = compute_loss(y, y_hat)\n",
        "\n",
        "          # compute gradient w1, w2, w3, b\n",
        "          dl_dweights = compute_gradient_w(features_i, y, y_hat)\n",
        "\n",
        "          # update parameters\n",
        "          weights = update_weight(weights, dl_dweights, lr)\n",
        "\n",
        "          # logging\n",
        "          losses.append(loss)\n",
        "  return weights, losses"
      ],
      "metadata": {
        "id": "4gDHlwTJobat"
      },
      "execution_count": 61,
      "outputs": []
    },
    {
      "cell_type": "code",
      "source": [
        "X,y = prepare_data('advertising.csv')\n",
        "W,L = implement_linear_regression(X,y)\n",
        "plt.plot(L[0:100])\n",
        "plt.xlabel(\"#iteration\")\n",
        "plt.ylabel(\"Loss\")\n",
        "plt.show()"
      ],
      "metadata": {
        "colab": {
          "base_uri": "https://localhost:8080/",
          "height": 1000
        },
        "id": "gRXjRV0vocmu",
        "outputId": "9877df0f-2d25-4d79-e8d5-110d96f6a8ae"
      },
      "execution_count": 62,
      "outputs": [
        {
          "output_type": "stream",
          "name": "stdout",
          "text": [
            "epoch 0\n",
            "epoch 1\n",
            "epoch 2\n",
            "epoch 3\n",
            "epoch 4\n",
            "epoch 5\n",
            "epoch 6\n",
            "epoch 7\n",
            "epoch 8\n",
            "epoch 9\n",
            "epoch 10\n",
            "epoch 11\n",
            "epoch 12\n",
            "epoch 13\n",
            "epoch 14\n",
            "epoch 15\n",
            "epoch 16\n",
            "epoch 17\n",
            "epoch 18\n",
            "epoch 19\n",
            "epoch 20\n",
            "epoch 21\n",
            "epoch 22\n",
            "epoch 23\n",
            "epoch 24\n",
            "epoch 25\n",
            "epoch 26\n",
            "epoch 27\n",
            "epoch 28\n",
            "epoch 29\n",
            "epoch 30\n",
            "epoch 31\n",
            "epoch 32\n",
            "epoch 33\n",
            "epoch 34\n",
            "epoch 35\n",
            "epoch 36\n",
            "epoch 37\n",
            "epoch 38\n",
            "epoch 39\n",
            "epoch 40\n",
            "epoch 41\n",
            "epoch 42\n",
            "epoch 43\n",
            "epoch 44\n",
            "epoch 45\n",
            "epoch 46\n",
            "epoch 47\n",
            "epoch 48\n",
            "epoch 49\n"
          ]
        },
        {
          "output_type": "display_data",
          "data": {
            "text/plain": [
              "<Figure size 640x480 with 1 Axes>"
            ],
            "image/png": "[encoded data removed]"
          },
          "metadata": {}
        }
      ]
    },
    {
      "cell_type": "code",
      "source": [
        "plt.plot(L[-100:])\n",
        "plt.xlabel(\"#iteration\")\n",
        "plt.ylabel(\"MSE loss\")\n",
        "plt.show()"
      ],
      "metadata": {
        "colab": {
          "base_uri": "https://localhost:8080/",
          "height": 449
        },
        "id": "LWe3RH1Lod_c",
        "outputId": "91d5e660-0402-4c7f-df4d-ed904868707b"
      },
      "execution_count": 63,
      "outputs": [
        {
          "output_type": "display_data",
          "data": {
            "text/plain": [
              "<Figure size 640x480 with 1 Axes>"
            ],
            "image/png": "[encoded data removed]"
          },
          "metadata": {}
        }
      ]
    },
    {
      "cell_type": "code",
      "source": [
        "#Multiple choices:\n",
        "#Question 12:\n",
        "X,y = prepare_data('advertising.csv')\n",
        "W,L = implement_linear_regression(X,y)\n",
        "# Print loss value at interation 9999\n",
        "print(L[9999])"
      ],
      "metadata": {
        "colab": {
          "base_uri": "https://localhost:8080/"
        },
        "id": "OhpAVbz1ofQr",
        "outputId": "b176833b-9a83-4f5a-9042-c02bcd548c1a"
      },
      "execution_count": 64,
      "outputs": [
        {
          "output_type": "stream",
          "name": "stdout",
          "text": [
            "epoch 0\n",
            "epoch 1\n",
            "epoch 2\n",
            "epoch 3\n",
            "epoch 4\n",
            "epoch 5\n",
            "epoch 6\n",
            "epoch 7\n",
            "epoch 8\n",
            "epoch 9\n",
            "epoch 10\n",
            "epoch 11\n",
            "epoch 12\n",
            "epoch 13\n",
            "epoch 14\n",
            "epoch 15\n",
            "epoch 16\n",
            "epoch 17\n",
            "epoch 18\n",
            "epoch 19\n",
            "epoch 20\n",
            "epoch 21\n",
            "epoch 22\n",
            "epoch 23\n",
            "epoch 24\n",
            "epoch 25\n",
            "epoch 26\n",
            "epoch 27\n",
            "epoch 28\n",
            "epoch 29\n",
            "epoch 30\n",
            "epoch 31\n",
            "epoch 32\n",
            "epoch 33\n",
            "epoch 34\n",
            "epoch 35\n",
            "epoch 36\n",
            "epoch 37\n",
            "epoch 38\n",
            "epoch 39\n",
            "epoch 40\n",
            "epoch 41\n",
            "epoch 42\n",
            "epoch 43\n",
            "epoch 44\n",
            "epoch 45\n",
            "epoch 46\n",
            "epoch 47\n",
            "epoch 48\n",
            "epoch 49\n",
            "4.102772134389854\n"
          ]
        }
      ]
    }
  ]
}